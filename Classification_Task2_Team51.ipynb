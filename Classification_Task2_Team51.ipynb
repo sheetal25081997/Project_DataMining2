{
  "nbformat": 4,
  "nbformat_minor": 0,
  "metadata": {
    "colab": {
      "provenance": [],
      "toc_visible": true
    },
    "kernelspec": {
      "name": "python3",
      "display_name": "Python 3"
    },
    "language_info": {
      "name": "python"
    }
  },
  "cells": [
    {
      "cell_type": "markdown",
      "source": [
        "# Project setup\n"
      ],
      "metadata": {
        "id": "S-LPCWO4PfvH"
      }
    },
    {
      "cell_type": "markdown",
      "source": [
        "## Python modules import"
      ],
      "metadata": {
        "id": "jBFNQZXQGzac"
      }
    },
    {
      "cell_type": "code",
      "source": [
        "#import python modules\n",
        "import pandas as pd\n",
        "import numpy\n",
        "\n",
        "from sklearn import preprocessing\n",
        "from sklearn.feature_selection import SelectKBest,f_classif,mutual_info_classif\n",
        "\n",
        "\n",
        "from sklearn.model_selection import StratifiedShuffleSplit,train_test_split,KFold,cross_val_score\n",
        "\n",
        "from sklearn.naive_bayes import MultinomialNB\n",
        "\n",
        "from sklearn.svm import SVC\n",
        "\n",
        "\n",
        "from sklearn.metrics import accuracy_score\n",
        "\n",
        "# Google Drive\n",
        "from google.colab import drive\n",
        "\n",
        "drive.mount(\"/content/gdrive/\", force_remount = True)\n",
        "print(\"Established access to Google Drive\")\n",
        "DRIVE_PATH = \"/content/gdrive/My Drive/Team51_DM_Task2/\""
      ],
      "metadata": {
        "colab": {
          "base_uri": "https://localhost:8080/"
        },
        "id": "yTPdY6pcHXIC",
        "outputId": "607ab5ed-4136-4068-912e-78ff9d17cfa2"
      },
      "execution_count": null,
      "outputs": [
        {
          "output_type": "stream",
          "name": "stdout",
          "text": [
            "Mounted at /content/gdrive/\n",
            "Established access to Google Drive\n"
          ]
        }
      ]
    },
    {
      "cell_type": "markdown",
      "source": [
        "## Reading  CSV Files"
      ],
      "metadata": {
        "id": "NBAWnUzTKdzw"
      }
    },
    {
      "cell_type": "code",
      "source": [
        "#reading image file\n",
        "image_file=pd.read_csv(DRIVE_PATH +\"Images.csv\",sep=\";\",skiprows=1,header=None,names=[\"imageID\",\"imageclass\"])\n",
        "image_file.head()"
      ],
      "metadata": {
        "colab": {
          "base_uri": "https://localhost:8080/",
          "height": 206
        },
        "id": "_PRQ0KntKmjF",
        "outputId": "f1fb4d43-fe41-4a9f-e71f-72812a61812b"
      },
      "execution_count": null,
      "outputs": [
        {
          "output_type": "execute_result",
          "data": {
            "text/plain": [
              "   imageID imageclass\n",
              "0        1  binocular\n",
              "1        2      chair\n",
              "2        3       tick\n",
              "3        4    minaret\n",
              "4        5      Faces"
            ],
            "text/html": [
              "\n",
              "  <div id=\"df-a5d07489-7259-4994-b980-6c8fa22dd199\">\n",
              "    <div class=\"colab-df-container\">\n",
              "      <div>\n",
              "<style scoped>\n",
              "    .dataframe tbody tr th:only-of-type {\n",
              "        vertical-align: middle;\n",
              "    }\n",
              "\n",
              "    .dataframe tbody tr th {\n",
              "        vertical-align: top;\n",
              "    }\n",
              "\n",
              "    .dataframe thead th {\n",
              "        text-align: right;\n",
              "    }\n",
              "</style>\n",
              "<table border=\"1\" class=\"dataframe\">\n",
              "  <thead>\n",
              "    <tr style=\"text-align: right;\">\n",
              "      <th></th>\n",
              "      <th>imageID</th>\n",
              "      <th>imageclass</th>\n",
              "    </tr>\n",
              "  </thead>\n",
              "  <tbody>\n",
              "    <tr>\n",
              "      <th>0</th>\n",
              "      <td>1</td>\n",
              "      <td>binocular</td>\n",
              "    </tr>\n",
              "    <tr>\n",
              "      <th>1</th>\n",
              "      <td>2</td>\n",
              "      <td>chair</td>\n",
              "    </tr>\n",
              "    <tr>\n",
              "      <th>2</th>\n",
              "      <td>3</td>\n",
              "      <td>tick</td>\n",
              "    </tr>\n",
              "    <tr>\n",
              "      <th>3</th>\n",
              "      <td>4</td>\n",
              "      <td>minaret</td>\n",
              "    </tr>\n",
              "    <tr>\n",
              "      <th>4</th>\n",
              "      <td>5</td>\n",
              "      <td>Faces</td>\n",
              "    </tr>\n",
              "  </tbody>\n",
              "</table>\n",
              "</div>\n",
              "      <button class=\"colab-df-convert\" onclick=\"convertToInteractive('df-a5d07489-7259-4994-b980-6c8fa22dd199')\"\n",
              "              title=\"Convert this dataframe to an interactive table.\"\n",
              "              style=\"display:none;\">\n",
              "        \n",
              "  <svg xmlns=\"http://www.w3.org/2000/svg\" height=\"24px\"viewBox=\"0 0 24 24\"\n",
              "       width=\"24px\">\n",
              "    <path d=\"M0 0h24v24H0V0z\" fill=\"none\"/>\n",
              "    <path d=\"M18.56 5.44l.94 2.06.94-2.06 2.06-.94-2.06-.94-.94-2.06-.94 2.06-2.06.94zm-11 1L8.5 8.5l.94-2.06 2.06-.94-2.06-.94L8.5 2.5l-.94 2.06-2.06.94zm10 10l.94 2.06.94-2.06 2.06-.94-2.06-.94-.94-2.06-.94 2.06-2.06.94z\"/><path d=\"M17.41 7.96l-1.37-1.37c-.4-.4-.92-.59-1.43-.59-.52 0-1.04.2-1.43.59L10.3 9.45l-7.72 7.72c-.78.78-.78 2.05 0 2.83L4 21.41c.39.39.9.59 1.41.59.51 0 1.02-.2 1.41-.59l7.78-7.78 2.81-2.81c.8-.78.8-2.07 0-2.86zM5.41 20L4 18.59l7.72-7.72 1.47 1.35L5.41 20z\"/>\n",
              "  </svg>\n",
              "      </button>\n",
              "      \n",
              "  <style>\n",
              "    .colab-df-container {\n",
              "      display:flex;\n",
              "      flex-wrap:wrap;\n",
              "      gap: 12px;\n",
              "    }\n",
              "\n",
              "    .colab-df-convert {\n",
              "      background-color: #E8F0FE;\n",
              "      border: none;\n",
              "      border-radius: 50%;\n",
              "      cursor: pointer;\n",
              "      display: none;\n",
              "      fill: #1967D2;\n",
              "      height: 32px;\n",
              "      padding: 0 0 0 0;\n",
              "      width: 32px;\n",
              "    }\n",
              "\n",
              "    .colab-df-convert:hover {\n",
              "      background-color: #E2EBFA;\n",
              "      box-shadow: 0px 1px 2px rgba(60, 64, 67, 0.3), 0px 1px 3px 1px rgba(60, 64, 67, 0.15);\n",
              "      fill: #174EA6;\n",
              "    }\n",
              "\n",
              "    [theme=dark] .colab-df-convert {\n",
              "      background-color: #3B4455;\n",
              "      fill: #D2E3FC;\n",
              "    }\n",
              "\n",
              "    [theme=dark] .colab-df-convert:hover {\n",
              "      background-color: #434B5C;\n",
              "      box-shadow: 0px 1px 3px 1px rgba(0, 0, 0, 0.15);\n",
              "      filter: drop-shadow(0px 1px 2px rgba(0, 0, 0, 0.3));\n",
              "      fill: #FFFFFF;\n",
              "    }\n",
              "  </style>\n",
              "\n",
              "      <script>\n",
              "        const buttonEl =\n",
              "          document.querySelector('#df-a5d07489-7259-4994-b980-6c8fa22dd199 button.colab-df-convert');\n",
              "        buttonEl.style.display =\n",
              "          google.colab.kernel.accessAllowed ? 'block' : 'none';\n",
              "\n",
              "        async function convertToInteractive(key) {\n",
              "          const element = document.querySelector('#df-a5d07489-7259-4994-b980-6c8fa22dd199');\n",
              "          const dataTable =\n",
              "            await google.colab.kernel.invokeFunction('convertToInteractive',\n",
              "                                                     [key], {});\n",
              "          if (!dataTable) return;\n",
              "\n",
              "          const docLinkHtml = 'Like what you see? Visit the ' +\n",
              "            '<a target=\"_blank\" href=https://colab.research.google.com/notebooks/data_table.ipynb>data table notebook</a>'\n",
              "            + ' to learn more about interactive tables.';\n",
              "          element.innerHTML = '';\n",
              "          dataTable['output_type'] = 'display_data';\n",
              "          await google.colab.output.renderOutput(dataTable, element);\n",
              "          const docLink = document.createElement('div');\n",
              "          docLink.innerHTML = docLinkHtml;\n",
              "          element.appendChild(docLink);\n",
              "        }\n",
              "      </script>\n",
              "    </div>\n",
              "  </div>\n",
              "  "
            ]
          },
          "metadata": {},
          "execution_count": 14
        }
      ]
    },
    {
      "cell_type": "code",
      "source": [
        "#reading feature file\n",
        "columnNames=[\"imageID\"]\n",
        "featurename=\"feature_{feature_no}\"\n",
        "for i in range(1,81):\n",
        "    current_featurename=featurename.format(feature_no=i)\n",
        "    columnNames.append(current_featurename)\n",
        "\n",
        "print(columnNames)\n",
        "feature_file=pd.read_csv(DRIVE_PATH +\"EdgeHistogram.csv\",sep=\";\",skiprows=1,header=None,names=columnNames)\n",
        "feature_file.index = feature_file.index + 1\n",
        "feature_file.head()"
      ],
      "metadata": {
        "colab": {
          "base_uri": "https://localhost:8080/",
          "height": 317
        },
        "id": "EdX-I4KtKo6G",
        "outputId": "c5eb3fc0-4209-4080-9ba4-88b1b722226a"
      },
      "execution_count": null,
      "outputs": [
        {
          "output_type": "stream",
          "name": "stdout",
          "text": [
            "['imageID', 'feature_1', 'feature_2', 'feature_3', 'feature_4', 'feature_5', 'feature_6', 'feature_7', 'feature_8', 'feature_9', 'feature_10', 'feature_11', 'feature_12', 'feature_13', 'feature_14', 'feature_15', 'feature_16', 'feature_17', 'feature_18', 'feature_19', 'feature_20', 'feature_21', 'feature_22', 'feature_23', 'feature_24', 'feature_25', 'feature_26', 'feature_27', 'feature_28', 'feature_29', 'feature_30', 'feature_31', 'feature_32', 'feature_33', 'feature_34', 'feature_35', 'feature_36', 'feature_37', 'feature_38', 'feature_39', 'feature_40', 'feature_41', 'feature_42', 'feature_43', 'feature_44', 'feature_45', 'feature_46', 'feature_47', 'feature_48', 'feature_49', 'feature_50', 'feature_51', 'feature_52', 'feature_53', 'feature_54', 'feature_55', 'feature_56', 'feature_57', 'feature_58', 'feature_59', 'feature_60', 'feature_61', 'feature_62', 'feature_63', 'feature_64', 'feature_65', 'feature_66', 'feature_67', 'feature_68', 'feature_69', 'feature_70', 'feature_71', 'feature_72', 'feature_73', 'feature_74', 'feature_75', 'feature_76', 'feature_77', 'feature_78', 'feature_79', 'feature_80']\n"
          ]
        },
        {
          "output_type": "execute_result",
          "data": {
            "text/plain": [
              "   imageID  feature_1  feature_2  feature_3  feature_4  feature_5  feature_6  \\\n",
              "1        1          1          1          1          2          2          2   \n",
              "2        2          2          2          1          0          3          0   \n",
              "3        3          5          1          6          2          6          3   \n",
              "4        4          0          0          0          0          0          0   \n",
              "5        5          1          6          4          2          2          0   \n",
              "\n",
              "   feature_7  feature_8  feature_9  ...  feature_71  feature_72  feature_73  \\\n",
              "1          4          4          2  ...           1           2           2   \n",
              "2          4          2          2  ...           1           4           3   \n",
              "3          2          7          1  ...           3           4           7   \n",
              "4          0          1          0  ...           0           0           1   \n",
              "5          6          6          5  ...           6           2           6   \n",
              "\n",
              "   feature_74  feature_75  feature_76  feature_77  feature_78  feature_79  \\\n",
              "1           3           3           1           1           1           1   \n",
              "2           3           5           2           2           1           0   \n",
              "3           0           6           3           2           7           3   \n",
              "4           0           1           0           0           1           0   \n",
              "5           3           3           6           1           2           5   \n",
              "\n",
              "   feature_80  \n",
              "1           2  \n",
              "2           4  \n",
              "3           6  \n",
              "4           1  \n",
              "5           6  \n",
              "\n",
              "[5 rows x 81 columns]"
            ],
            "text/html": [
              "\n",
              "  <div id=\"df-85c0983f-629d-49ae-b889-9e213fc87574\">\n",
              "    <div class=\"colab-df-container\">\n",
              "      <div>\n",
              "<style scoped>\n",
              "    .dataframe tbody tr th:only-of-type {\n",
              "        vertical-align: middle;\n",
              "    }\n",
              "\n",
              "    .dataframe tbody tr th {\n",
              "        vertical-align: top;\n",
              "    }\n",
              "\n",
              "    .dataframe thead th {\n",
              "        text-align: right;\n",
              "    }\n",
              "</style>\n",
              "<table border=\"1\" class=\"dataframe\">\n",
              "  <thead>\n",
              "    <tr style=\"text-align: right;\">\n",
              "      <th></th>\n",
              "      <th>imageID</th>\n",
              "      <th>feature_1</th>\n",
              "      <th>feature_2</th>\n",
              "      <th>feature_3</th>\n",
              "      <th>feature_4</th>\n",
              "      <th>feature_5</th>\n",
              "      <th>feature_6</th>\n",
              "      <th>feature_7</th>\n",
              "      <th>feature_8</th>\n",
              "      <th>feature_9</th>\n",
              "      <th>...</th>\n",
              "      <th>feature_71</th>\n",
              "      <th>feature_72</th>\n",
              "      <th>feature_73</th>\n",
              "      <th>feature_74</th>\n",
              "      <th>feature_75</th>\n",
              "      <th>feature_76</th>\n",
              "      <th>feature_77</th>\n",
              "      <th>feature_78</th>\n",
              "      <th>feature_79</th>\n",
              "      <th>feature_80</th>\n",
              "    </tr>\n",
              "  </thead>\n",
              "  <tbody>\n",
              "    <tr>\n",
              "      <th>1</th>\n",
              "      <td>1</td>\n",
              "      <td>1</td>\n",
              "      <td>1</td>\n",
              "      <td>1</td>\n",
              "      <td>2</td>\n",
              "      <td>2</td>\n",
              "      <td>2</td>\n",
              "      <td>4</td>\n",
              "      <td>4</td>\n",
              "      <td>2</td>\n",
              "      <td>...</td>\n",
              "      <td>1</td>\n",
              "      <td>2</td>\n",
              "      <td>2</td>\n",
              "      <td>3</td>\n",
              "      <td>3</td>\n",
              "      <td>1</td>\n",
              "      <td>1</td>\n",
              "      <td>1</td>\n",
              "      <td>1</td>\n",
              "      <td>2</td>\n",
              "    </tr>\n",
              "    <tr>\n",
              "      <th>2</th>\n",
              "      <td>2</td>\n",
              "      <td>2</td>\n",
              "      <td>2</td>\n",
              "      <td>1</td>\n",
              "      <td>0</td>\n",
              "      <td>3</td>\n",
              "      <td>0</td>\n",
              "      <td>4</td>\n",
              "      <td>2</td>\n",
              "      <td>2</td>\n",
              "      <td>...</td>\n",
              "      <td>1</td>\n",
              "      <td>4</td>\n",
              "      <td>3</td>\n",
              "      <td>3</td>\n",
              "      <td>5</td>\n",
              "      <td>2</td>\n",
              "      <td>2</td>\n",
              "      <td>1</td>\n",
              "      <td>0</td>\n",
              "      <td>4</td>\n",
              "    </tr>\n",
              "    <tr>\n",
              "      <th>3</th>\n",
              "      <td>3</td>\n",
              "      <td>5</td>\n",
              "      <td>1</td>\n",
              "      <td>6</td>\n",
              "      <td>2</td>\n",
              "      <td>6</td>\n",
              "      <td>3</td>\n",
              "      <td>2</td>\n",
              "      <td>7</td>\n",
              "      <td>1</td>\n",
              "      <td>...</td>\n",
              "      <td>3</td>\n",
              "      <td>4</td>\n",
              "      <td>7</td>\n",
              "      <td>0</td>\n",
              "      <td>6</td>\n",
              "      <td>3</td>\n",
              "      <td>2</td>\n",
              "      <td>7</td>\n",
              "      <td>3</td>\n",
              "      <td>6</td>\n",
              "    </tr>\n",
              "    <tr>\n",
              "      <th>4</th>\n",
              "      <td>4</td>\n",
              "      <td>0</td>\n",
              "      <td>0</td>\n",
              "      <td>0</td>\n",
              "      <td>0</td>\n",
              "      <td>0</td>\n",
              "      <td>0</td>\n",
              "      <td>0</td>\n",
              "      <td>1</td>\n",
              "      <td>0</td>\n",
              "      <td>...</td>\n",
              "      <td>0</td>\n",
              "      <td>0</td>\n",
              "      <td>1</td>\n",
              "      <td>0</td>\n",
              "      <td>1</td>\n",
              "      <td>0</td>\n",
              "      <td>0</td>\n",
              "      <td>1</td>\n",
              "      <td>0</td>\n",
              "      <td>1</td>\n",
              "    </tr>\n",
              "    <tr>\n",
              "      <th>5</th>\n",
              "      <td>5</td>\n",
              "      <td>1</td>\n",
              "      <td>6</td>\n",
              "      <td>4</td>\n",
              "      <td>2</td>\n",
              "      <td>2</td>\n",
              "      <td>0</td>\n",
              "      <td>6</td>\n",
              "      <td>6</td>\n",
              "      <td>5</td>\n",
              "      <td>...</td>\n",
              "      <td>6</td>\n",
              "      <td>2</td>\n",
              "      <td>6</td>\n",
              "      <td>3</td>\n",
              "      <td>3</td>\n",
              "      <td>6</td>\n",
              "      <td>1</td>\n",
              "      <td>2</td>\n",
              "      <td>5</td>\n",
              "      <td>6</td>\n",
              "    </tr>\n",
              "  </tbody>\n",
              "</table>\n",
              "<p>5 rows × 81 columns</p>\n",
              "</div>\n",
              "      <button class=\"colab-df-convert\" onclick=\"convertToInteractive('df-85c0983f-629d-49ae-b889-9e213fc87574')\"\n",
              "              title=\"Convert this dataframe to an interactive table.\"\n",
              "              style=\"display:none;\">\n",
              "        \n",
              "  <svg xmlns=\"http://www.w3.org/2000/svg\" height=\"24px\"viewBox=\"0 0 24 24\"\n",
              "       width=\"24px\">\n",
              "    <path d=\"M0 0h24v24H0V0z\" fill=\"none\"/>\n",
              "    <path d=\"M18.56 5.44l.94 2.06.94-2.06 2.06-.94-2.06-.94-.94-2.06-.94 2.06-2.06.94zm-11 1L8.5 8.5l.94-2.06 2.06-.94-2.06-.94L8.5 2.5l-.94 2.06-2.06.94zm10 10l.94 2.06.94-2.06 2.06-.94-2.06-.94-.94-2.06-.94 2.06-2.06.94z\"/><path d=\"M17.41 7.96l-1.37-1.37c-.4-.4-.92-.59-1.43-.59-.52 0-1.04.2-1.43.59L10.3 9.45l-7.72 7.72c-.78.78-.78 2.05 0 2.83L4 21.41c.39.39.9.59 1.41.59.51 0 1.02-.2 1.41-.59l7.78-7.78 2.81-2.81c.8-.78.8-2.07 0-2.86zM5.41 20L4 18.59l7.72-7.72 1.47 1.35L5.41 20z\"/>\n",
              "  </svg>\n",
              "      </button>\n",
              "      \n",
              "  <style>\n",
              "    .colab-df-container {\n",
              "      display:flex;\n",
              "      flex-wrap:wrap;\n",
              "      gap: 12px;\n",
              "    }\n",
              "\n",
              "    .colab-df-convert {\n",
              "      background-color: #E8F0FE;\n",
              "      border: none;\n",
              "      border-radius: 50%;\n",
              "      cursor: pointer;\n",
              "      display: none;\n",
              "      fill: #1967D2;\n",
              "      height: 32px;\n",
              "      padding: 0 0 0 0;\n",
              "      width: 32px;\n",
              "    }\n",
              "\n",
              "    .colab-df-convert:hover {\n",
              "      background-color: #E2EBFA;\n",
              "      box-shadow: 0px 1px 2px rgba(60, 64, 67, 0.3), 0px 1px 3px 1px rgba(60, 64, 67, 0.15);\n",
              "      fill: #174EA6;\n",
              "    }\n",
              "\n",
              "    [theme=dark] .colab-df-convert {\n",
              "      background-color: #3B4455;\n",
              "      fill: #D2E3FC;\n",
              "    }\n",
              "\n",
              "    [theme=dark] .colab-df-convert:hover {\n",
              "      background-color: #434B5C;\n",
              "      box-shadow: 0px 1px 3px 1px rgba(0, 0, 0, 0.15);\n",
              "      filter: drop-shadow(0px 1px 2px rgba(0, 0, 0, 0.3));\n",
              "      fill: #FFFFFF;\n",
              "    }\n",
              "  </style>\n",
              "\n",
              "      <script>\n",
              "        const buttonEl =\n",
              "          document.querySelector('#df-85c0983f-629d-49ae-b889-9e213fc87574 button.colab-df-convert');\n",
              "        buttonEl.style.display =\n",
              "          google.colab.kernel.accessAllowed ? 'block' : 'none';\n",
              "\n",
              "        async function convertToInteractive(key) {\n",
              "          const element = document.querySelector('#df-85c0983f-629d-49ae-b889-9e213fc87574');\n",
              "          const dataTable =\n",
              "            await google.colab.kernel.invokeFunction('convertToInteractive',\n",
              "                                                     [key], {});\n",
              "          if (!dataTable) return;\n",
              "\n",
              "          const docLinkHtml = 'Like what you see? Visit the ' +\n",
              "            '<a target=\"_blank\" href=https://colab.research.google.com/notebooks/data_table.ipynb>data table notebook</a>'\n",
              "            + ' to learn more about interactive tables.';\n",
              "          element.innerHTML = '';\n",
              "          dataTable['output_type'] = 'display_data';\n",
              "          await google.colab.output.renderOutput(dataTable, element);\n",
              "          const docLink = document.createElement('div');\n",
              "          docLink.innerHTML = docLinkHtml;\n",
              "          element.appendChild(docLink);\n",
              "        }\n",
              "      </script>\n",
              "    </div>\n",
              "  </div>\n",
              "  "
            ]
          },
          "metadata": {},
          "execution_count": 15
        }
      ]
    },
    {
      "cell_type": "markdown",
      "source": [
        "## Merging both CSV files data"
      ],
      "metadata": {
        "id": "qWnnnUXXKwDp"
      }
    },
    {
      "cell_type": "code",
      "source": [
        "image_and_features_together_df=pd.merge(image_file, feature_file, on='imageID')"
      ],
      "metadata": {
        "id": "AEp7gHinK3jg"
      },
      "execution_count": null,
      "outputs": []
    },
    {
      "cell_type": "code",
      "source": [
        "#Defining two dataframes X and Y.\n",
        "# Dataframe X: Contains all features\n",
        "# Dataframe Y: Conatains all class labels\n",
        "X=image_and_features_together_df.drop(['imageID','imageclass'],axis=1)\n",
        "Y=image_and_features_together_df['imageclass']"
      ],
      "metadata": {
        "id": "pKfUkweoOsA0"
      },
      "execution_count": null,
      "outputs": []
    },
    {
      "cell_type": "markdown",
      "source": [
        "# All Trials without Feature Engineering"
      ],
      "metadata": {
        "id": "svHn29H5GkmK"
      }
    },
    {
      "cell_type": "markdown",
      "source": [
        "## Selecting Best Features for using during Classification\n"
      ],
      "metadata": {
        "id": "N0jArf20LD9g"
      }
    },
    {
      "cell_type": "code",
      "source": [
        "# Selecting 40 best features from 80\n",
        "fs = SelectKBest(score_func=f_classif, k=40)\n",
        "X_selected = fs.fit_transform(X,Y)\n",
        "print(X_selected.shape)"
      ],
      "metadata": {
        "colab": {
          "base_uri": "https://localhost:8080/"
        },
        "id": "Wkr3ICXhLLby",
        "outputId": "a5dffd7f-e8c2-4b16-8156-d8c7e34eb24b"
      },
      "execution_count": null,
      "outputs": [
        {
          "output_type": "stream",
          "name": "stdout",
          "text": [
            "(9144, 40)\n"
          ]
        }
      ]
    },
    {
      "cell_type": "markdown",
      "source": [
        "## SVM Classifier"
      ],
      "metadata": {
        "id": "BWSZt8kk5oL6"
      }
    },
    {
      "cell_type": "code",
      "source": [
        "# Training with 3,5,10,15 samples for each class and with multiple splits from Dataset\n",
        "model = SVC(kernel=\"poly\")\n",
        "trial_set=[3,5,10,15]\n",
        "test_scores=[]\n",
        "for no in trial_set:\n",
        "    print(\"Building models with train sets for each class as \",no)\n",
        "    sss = StratifiedShuffleSplit(n_splits=5, train_size = 101*no, random_state=0)\n",
        "    print(sss.get_n_splits(X_selected, Y))\n",
        "    for train_index, test_index in sss.split(X_selected, Y):\n",
        "        X_train, X_test = X_selected[train_index], X_selected[test_index]\n",
        "        Y_train, Y_test = Y[train_index], Y[test_index]\n",
        "        print(len(Y_train.unique()))\n",
        "        model.fit(X_train, Y_train)\n",
        "        y_hat = model.predict(X_test)\n",
        "        acc = accuracy_score(Y_test, y_hat)\n",
        "        print('Accuracy: %.3f' % acc)\n",
        "        print('Training set score: {:.4f}'.format(model.score(X_train, Y_train)))\n",
        "        print('Test set score: {:.4f}'.format(model.score(X_test, Y_test)))\n",
        "        print('\\n')\n",
        "        test_scores.append(acc)\n",
        "print(\"maximum accuracy for classification was\",max(test_scores) )"
      ],
      "metadata": {
        "colab": {
          "base_uri": "https://localhost:8080/"
        },
        "id": "fnn2Zr548aMR",
        "outputId": "b7abecfe-a214-4c6d-e27f-3909b0aecdc3"
      },
      "execution_count": null,
      "outputs": [
        {
          "output_type": "stream",
          "name": "stdout",
          "text": [
            "Building models with train sets for each class as  3\n",
            "5\n",
            "101\n",
            "Accuracy: 0.346\n",
            "Training set score: 0.9703\n",
            "Test set score: 0.3459\n",
            "\n",
            "\n",
            "101\n",
            "Accuracy: 0.347\n",
            "Training set score: 0.9703\n",
            "Test set score: 0.3466\n",
            "\n",
            "\n",
            "101\n",
            "Accuracy: 0.360\n",
            "Training set score: 0.9637\n",
            "Test set score: 0.3600\n",
            "\n",
            "\n",
            "101\n",
            "Accuracy: 0.356\n",
            "Training set score: 0.9637\n",
            "Test set score: 0.3563\n",
            "\n",
            "\n",
            "101\n",
            "Accuracy: 0.360\n",
            "Training set score: 0.9604\n",
            "Test set score: 0.3604\n",
            "\n",
            "\n",
            "Building models with train sets for each class as  5\n",
            "5\n",
            "101\n",
            "Accuracy: 0.374\n",
            "Training set score: 0.9624\n",
            "Test set score: 0.3741\n",
            "\n",
            "\n",
            "101\n",
            "Accuracy: 0.370\n",
            "Training set score: 0.9426\n",
            "Test set score: 0.3701\n",
            "\n",
            "\n",
            "101\n",
            "Accuracy: 0.358\n",
            "Training set score: 0.9426\n",
            "Test set score: 0.3580\n",
            "\n",
            "\n",
            "101\n",
            "Accuracy: 0.375\n",
            "Training set score: 0.9644\n",
            "Test set score: 0.3749\n",
            "\n",
            "\n",
            "101\n",
            "Accuracy: 0.379\n",
            "Training set score: 0.9545\n",
            "Test set score: 0.3790\n",
            "\n",
            "\n",
            "Building models with train sets for each class as  10\n",
            "5\n",
            "101\n",
            "Accuracy: 0.404\n",
            "Training set score: 0.9574\n",
            "Test set score: 0.4041\n",
            "\n",
            "\n",
            "101\n",
            "Accuracy: 0.405\n",
            "Training set score: 0.9644\n",
            "Test set score: 0.4055\n",
            "\n",
            "\n",
            "101\n",
            "Accuracy: 0.399\n",
            "Training set score: 0.9564\n",
            "Test set score: 0.3989\n",
            "\n",
            "\n",
            "101\n",
            "Accuracy: 0.409\n",
            "Training set score: 0.9743\n",
            "Test set score: 0.4087\n",
            "\n",
            "\n",
            "101\n",
            "Accuracy: 0.404\n",
            "Training set score: 0.9604\n",
            "Test set score: 0.4044\n",
            "\n",
            "\n",
            "Building models with train sets for each class as  15\n",
            "5\n",
            "101\n",
            "Accuracy: 0.442\n",
            "Training set score: 0.9630\n",
            "Test set score: 0.4417\n",
            "\n",
            "\n",
            "101\n",
            "Accuracy: 0.430\n",
            "Training set score: 0.9558\n",
            "Test set score: 0.4303\n",
            "\n",
            "\n",
            "101\n",
            "Accuracy: 0.422\n",
            "Training set score: 0.9551\n",
            "Test set score: 0.4215\n",
            "\n",
            "\n",
            "101\n",
            "Accuracy: 0.430\n",
            "Training set score: 0.9512\n",
            "Test set score: 0.4305\n",
            "\n",
            "\n",
            "101\n",
            "Accuracy: 0.433\n",
            "Training set score: 0.9584\n",
            "Test set score: 0.4326\n",
            "\n",
            "\n",
            "maximum accuracy for classification was 0.4417354830252982\n"
          ]
        }
      ]
    },
    {
      "cell_type": "code",
      "source": [
        "# Only one split\n",
        "model = SVC(kernel=\"poly\")\n",
        "X_train, X_test, Y_train, Y_test = train_test_split(X_selected, Y, stratify=Y)\n",
        "# print(X_train.shape, X_test.shape, Y_train.shape, Y_test.shape)\n",
        "# print(len(Y_train.unique()))\n",
        "model.fit(X_train, Y_train)\n",
        "y_hat = model.predict(X_test)\n",
        "acc = accuracy_score(Y_test, y_hat)\n",
        "print('Accuracy: %.3f' % acc)\n",
        "print('Training set score: {:.4f}'.format(model.score(X_train, Y_train)))\n",
        "print('Test set score: {:.4f}'.format(model.score(X_test, Y_test)))"
      ],
      "metadata": {
        "colab": {
          "base_uri": "https://localhost:8080/"
        },
        "id": "laJRQSbvWxmG",
        "outputId": "0dbd993e-4a56-44a2-954a-5e87e73980bc"
      },
      "execution_count": null,
      "outputs": [
        {
          "output_type": "stream",
          "name": "stdout",
          "text": [
            "Accuracy: 0.507\n",
            "Training set score: 0.9493\n",
            "Test set score: 0.5066\n"
          ]
        }
      ]
    },
    {
      "cell_type": "code",
      "source": [
        "# Training with entire dataset and best 40 features\n",
        "model2 = SVC(kernel=\"poly\")\n",
        "model2.fit(X_selected,Y)\n",
        "print(\"accuracy\",model2.score(X_selected,Y))"
      ],
      "metadata": {
        "colab": {
          "base_uri": "https://localhost:8080/"
        },
        "id": "LAgNnX398_eS",
        "outputId": "151fbde4-49e7-46a5-fdd9-547fe76923b9"
      },
      "execution_count": null,
      "outputs": [
        {
          "output_type": "stream",
          "name": "stdout",
          "text": [
            "accuracy 0.9424759405074365\n"
          ]
        }
      ]
    },
    {
      "cell_type": "code",
      "source": [
        "# Training with entire dataset and all 80 features\n",
        "model2 = SVC(kernel=\"poly\")\n",
        "model2.fit(X,Y)\n",
        "print(\"accuracy\",model2.score(X,Y))"
      ],
      "metadata": {
        "colab": {
          "base_uri": "https://localhost:8080/"
        },
        "id": "GqU2CKhYZGVM",
        "outputId": "c7e8925d-acaa-4fc5-ab19-6096b56902e8"
      },
      "execution_count": null,
      "outputs": [
        {
          "output_type": "stream",
          "name": "stdout",
          "text": [
            "accuracy 0.5787401574803149\n"
          ]
        }
      ]
    },
    {
      "cell_type": "markdown",
      "source": [
        "## Naives Bayes Classifier"
      ],
      "metadata": {
        "id": "s4ybHy18NE7U"
      }
    },
    {
      "cell_type": "code",
      "source": [
        "# Training with 3,5,10,15 samples for each class and with multiple splits from Dataset\n",
        "model = MultinomialNB()\n",
        "trial_set=[3,5,10,15]\n",
        "test_scores=[]\n",
        "for no in trial_set:\n",
        "    print(\"Building models with train sets for each class as \",no)\n",
        "    sss = StratifiedShuffleSplit(n_splits=5, train_size = 101*no, random_state=0)\n",
        "    print(sss.get_n_splits(X_selected, Y))\n",
        "    for train_index, test_index in sss.split(X_selected, Y):\n",
        "        X_train, X_test = X_selected[train_index], X_selected[test_index]\n",
        "        Y_train, Y_test = Y[train_index], Y[test_index]\n",
        "        print(len(Y_train.unique()))\n",
        "        model.fit(X_train, Y_train)\n",
        "        y_hat = model.predict(X_test)\n",
        "        acc = accuracy_score(Y_test, y_hat)\n",
        "        print('Accuracy: %.3f' % acc)\n",
        "        print('Training set score: {:.4f}'.format(model.score(X_train, Y_train)))\n",
        "        print('Test set score: {:.4f}'.format(model.score(X_test, Y_test)))\n",
        "        print('\\n')\n",
        "        test_scores.append(acc)\n",
        "\n",
        "print(\"maximum accuracy for classification was\",max(test_scores) )"
      ],
      "metadata": {
        "colab": {
          "base_uri": "https://localhost:8080/"
        },
        "id": "K6cuFBEdT975",
        "outputId": "d5d2b1c0-93af-4733-9007-0a87c9e45ec0"
      },
      "execution_count": null,
      "outputs": [
        {
          "output_type": "stream",
          "name": "stdout",
          "text": [
            "Building models with train sets for each class as  3\n",
            "5\n",
            "101\n",
            "Accuracy: 0.352\n",
            "Training set score: 0.8614\n",
            "Test set score: 0.3521\n",
            "\n",
            "\n",
            "101\n",
            "Accuracy: 0.353\n",
            "Training set score: 0.8713\n",
            "Test set score: 0.3535\n",
            "\n",
            "\n",
            "101\n",
            "Accuracy: 0.360\n",
            "Training set score: 0.8482\n",
            "Test set score: 0.3598\n",
            "\n",
            "\n",
            "101\n",
            "Accuracy: 0.356\n",
            "Training set score: 0.8515\n",
            "Test set score: 0.3555\n",
            "\n",
            "\n",
            "101\n",
            "Accuracy: 0.360\n",
            "Training set score: 0.8746\n",
            "Test set score: 0.3603\n",
            "\n",
            "\n",
            "Building models with train sets for each class as  5\n",
            "5\n",
            "101\n",
            "Accuracy: 0.372\n",
            "Training set score: 0.7683\n",
            "Test set score: 0.3718\n",
            "\n",
            "\n",
            "101\n",
            "Accuracy: 0.364\n",
            "Training set score: 0.7426\n",
            "Test set score: 0.3638\n",
            "\n",
            "\n",
            "101\n",
            "Accuracy: 0.358\n",
            "Training set score: 0.7723\n",
            "Test set score: 0.3584\n",
            "\n",
            "\n",
            "101\n",
            "Accuracy: 0.363\n",
            "Training set score: 0.7663\n",
            "Test set score: 0.3635\n",
            "\n",
            "\n",
            "101\n",
            "Accuracy: 0.372\n",
            "Training set score: 0.7584\n",
            "Test set score: 0.3716\n",
            "\n",
            "\n",
            "Building models with train sets for each class as  10\n",
            "5\n",
            "101\n",
            "Accuracy: 0.394\n",
            "Training set score: 0.6188\n",
            "Test set score: 0.3939\n",
            "\n",
            "\n",
            "101\n",
            "Accuracy: 0.397\n",
            "Training set score: 0.6099\n",
            "Test set score: 0.3973\n",
            "\n",
            "\n",
            "101\n",
            "Accuracy: 0.396\n",
            "Training set score: 0.6079\n",
            "Test set score: 0.3957\n",
            "\n",
            "\n",
            "101\n",
            "Accuracy: 0.400\n",
            "Training set score: 0.6317\n",
            "Test set score: 0.4004\n",
            "\n",
            "\n",
            "101\n",
            "Accuracy: 0.386\n",
            "Training set score: 0.6139\n",
            "Test set score: 0.3863\n",
            "\n",
            "\n",
            "Building models with train sets for each class as  15\n",
            "5\n",
            "101\n",
            "Accuracy: 0.409\n",
            "Training set score: 0.5558\n",
            "Test set score: 0.4092\n",
            "\n",
            "\n",
            "101\n",
            "Accuracy: 0.408\n",
            "Training set score: 0.5630\n",
            "Test set score: 0.4079\n",
            "\n",
            "\n",
            "101\n",
            "Accuracy: 0.401\n",
            "Training set score: 0.5545\n",
            "Test set score: 0.4007\n",
            "\n",
            "\n",
            "101\n",
            "Accuracy: 0.402\n",
            "Training set score: 0.5670\n",
            "Test set score: 0.4020\n",
            "\n",
            "\n",
            "101\n",
            "Accuracy: 0.412\n",
            "Training set score: 0.5703\n",
            "Test set score: 0.4118\n",
            "\n",
            "\n",
            "maximum accuracy for classification was 0.411849521562459\n"
          ]
        }
      ]
    },
    {
      "cell_type": "code",
      "source": [
        "# Only one split\n",
        "model = MultinomialNB()\n",
        "X_train, X_test, Y_train, Y_test = train_test_split(X_selected, Y, stratify=Y)\n",
        "# print(X_train.shape, X_test.shape, Y_train.shape, Y_test.shape)\n",
        "# print(len(Y_train.unique()))\n",
        "model.fit(X_train, Y_train)\n",
        "y_hat = model.predict(X_test)\n",
        "acc = accuracy_score(Y_test, y_hat)\n",
        "print('Accuracy: %.3f' % acc)\n",
        "print('Training set score: {:.4f}'.format(model.score(X_train, Y_train)))\n",
        "print('Test set score: {:.4f}'.format(model.score(X_test, Y_test)))"
      ],
      "metadata": {
        "colab": {
          "base_uri": "https://localhost:8080/"
        },
        "id": "l3H6GoRYNLiM",
        "outputId": "edb22a4e-0ed1-4b0b-906d-9489246c289e"
      },
      "execution_count": null,
      "outputs": [
        {
          "output_type": "stream",
          "name": "stdout",
          "text": [
            "Accuracy: 0.427\n",
            "Training set score: 0.4739\n",
            "Test set score: 0.4269\n"
          ]
        }
      ]
    },
    {
      "cell_type": "code",
      "source": [
        "# Training with entire dataset and with best 40 features\n",
        "model = MultinomialNB()\n",
        "model.fit(X_selected,Y)\n",
        "print(\"Accuracy\",model.score(X_selected,Y))"
      ],
      "metadata": {
        "colab": {
          "base_uri": "https://localhost:8080/"
        },
        "id": "njDq9da32P3Z",
        "outputId": "dd06db5a-7819-4f0c-a6c5-416628cb06ad"
      },
      "execution_count": null,
      "outputs": [
        {
          "output_type": "stream",
          "name": "stdout",
          "text": [
            "Accuracy 0.46500437445319337\n"
          ]
        }
      ]
    },
    {
      "cell_type": "code",
      "source": [
        "# Training with entire dataset along with all 80 features and not best 40features\n",
        "model = MultinomialNB()\n",
        "model.fit(X,Y)\n",
        "print(\"Accuracy\",model.score(X,Y))"
      ],
      "metadata": {
        "colab": {
          "base_uri": "https://localhost:8080/"
        },
        "id": "BKbuSrHkYAU9",
        "outputId": "bb693155-39bd-42c3-b01d-c97abdd8e792"
      },
      "execution_count": null,
      "outputs": [
        {
          "output_type": "stream",
          "name": "stdout",
          "text": [
            "Accuracy 0.48414260717410323\n"
          ]
        }
      ]
    },
    {
      "cell_type": "markdown",
      "source": [
        "# Feature Engineering"
      ],
      "metadata": {
        "id": "6IMU3TZ3ZNdX"
      }
    },
    {
      "cell_type": "markdown",
      "source": [
        "## function definitions and feature engineering to obtain features"
      ],
      "metadata": {
        "id": "u2zRNTcWkxiK"
      }
    },
    {
      "cell_type": "code",
      "source": [
        "def get_features(list_columnNames,newFeatureColumnName):\n",
        "    mergedFeatures=image_and_features_together_df[list_columnNames].copy()\n",
        "    mergedFeatures[newFeatureColumnName]=mergedFeatures.values.tolist()\n",
        "    mergedFeatures['imageID']=image_and_features_together_df['imageID'].copy()\n",
        "    return mergedFeatures\n",
        "\n",
        "def find_max(x):\n",
        "    return max(x)"
      ],
      "metadata": {
        "id": "Ceao8i5OZXPV"
      },
      "execution_count": null,
      "outputs": []
    },
    {
      "cell_type": "code",
      "source": [
        "i=1\n",
        "featurename=\"feature_{feature_no}\"\n",
        "finalFeatures=image_and_features_together_df['imageID']\n",
        "# print(finalFeatures)\n",
        "new_feature_no=1\n",
        "while(i<=80):\n",
        "    DF_listFeatures=pd.DataFrame()\n",
        "    columnListToMerge=[featurename.format(feature_no=i),featurename.format(feature_no=i+1),featurename.format(feature_no=i+2),featurename.format(feature_no=i+3),featurename.format(feature_no=i+4)]\n",
        "    newFeature=\"mergedFeature_{feature_no}\"\n",
        "    newFeatureColumnName=newFeature.format(feature_no=new_feature_no)\n",
        "    DF_listFeatures=get_features(columnListToMerge,newFeatureColumnName)\n",
        "    # print(DF_listFeatures)\n",
        "    mergedWithOldFeatures=pd.merge(finalFeatures,DF_listFeatures,on='imageID')\n",
        "    i=i+5\n",
        "    new_feature_no=new_feature_no+1\n",
        "    finalFeatures=mergedWithOldFeatures\n",
        "    finalFeatures.drop(columns=columnListToMerge,axis=1,inplace=True)\n",
        "    # print(finalFeatures)\n",
        "\n",
        "print(finalFeatures)"
      ],
      "metadata": {
        "colab": {
          "base_uri": "https://localhost:8080/"
        },
        "id": "EIWRHvk4Zdsp",
        "outputId": "243a4429-d713-47db-9801-d7dfe02609fd"
      },
      "execution_count": null,
      "outputs": [
        {
          "output_type": "stream",
          "name": "stdout",
          "text": [
            "      imageID  mergedFeature_1  mergedFeature_2  mergedFeature_3  \\\n",
            "0           1  [1, 1, 1, 2, 2]  [2, 4, 4, 2, 2]  [2, 2, 3, 3, 3]   \n",
            "1           2  [2, 2, 1, 0, 3]  [0, 4, 2, 2, 4]  [0, 5, 0, 0, 4]   \n",
            "2           3  [5, 1, 6, 2, 6]  [3, 2, 7, 1, 6]  [4, 1, 7, 0, 6]   \n",
            "3           4  [0, 0, 0, 0, 0]  [0, 0, 1, 0, 1]  [0, 0, 2, 0, 1]   \n",
            "4           5  [1, 6, 4, 2, 2]  [0, 6, 6, 5, 4]  [1, 7, 1, 5, 3]   \n",
            "...       ...              ...              ...              ...   \n",
            "9139     9140  [5, 3, 1, 4, 1]  [2, 5, 4, 4, 3]  [2, 5, 4, 5, 3]   \n",
            "9140     9141  [0, 0, 5, 1, 2]  [1, 0, 7, 3, 6]  [3, 1, 3, 7, 4]   \n",
            "9141     9142  [3, 3, 2, 1, 2]  [0, 5, 4, 3, 3]  [1, 4, 2, 3, 4]   \n",
            "9142     9143  [0, 0, 0, 0, 0]  [0, 0, 1, 0, 0]  [1, 3, 5, 1, 4]   \n",
            "9143     9144  [5, 3, 0, 1, 1]  [3, 5, 2, 1, 1]  [4, 2, 0, 3, 1]   \n",
            "\n",
            "      mergedFeature_4  mergedFeature_5  mergedFeature_6  mergedFeature_7  \\\n",
            "0     [2, 3, 3, 3, 2]  [5, 0, 1, 1, 0]  [3, 1, 2, 3, 1]  [6, 1, 5, 4, 2]   \n",
            "1     [2, 3, 0, 0, 3]  [5, 1, 2, 2, 5]  [3, 1, 4, 2, 7]  [0, 1, 0, 0, 7]   \n",
            "2     [3, 3, 3, 1, 6]  [4, 2, 5, 4, 5]  [2, 5, 6, 4, 4]  [3, 4, 3, 5, 5]   \n",
            "3     [0, 0, 1, 0, 1]  [0, 0, 1, 0, 2]  [0, 0, 0, 0, 0]  [0, 1, 3, 1, 3]   \n",
            "4     [5, 1, 4, 4, 6]  [3, 0, 3, 2, 4]  [2, 3, 6, 3, 4]  [4, 3, 4, 7, 3]   \n",
            "...               ...              ...              ...              ...   \n",
            "9139  [3, 4, 5, 3, 3]  [6, 1, 4, 1, 2]  [4, 2, 6, 6, 6]  [4, 3, 6, 5, 5]   \n",
            "9140  [0, 0, 0, 2, 2]  [2, 1, 7, 1, 7]  [1, 1, 2, 7, 7]  [1, 1, 2, 7, 6]   \n",
            "9141  [3, 4, 1, 3, 2]  [4, 2, 2, 2, 2]  [4, 3, 5, 5, 2]  [3, 3, 3, 7, 2]   \n",
            "9142  [0, 1, 4, 1, 2]  [1, 1, 2, 1, 1]  [2, 4, 4, 4, 5]  [1, 5, 2, 3, 3]   \n",
            "9143  [5, 1, 0, 0, 1]  [4, 2, 1, 0, 1]  [2, 4, 1, 3, 1]  [3, 2, 4, 4, 5]   \n",
            "\n",
            "      mergedFeature_8  mergedFeature_9 mergedFeature_10 mergedFeature_11  \\\n",
            "0     [7, 0, 1, 2, 1]  [5, 0, 1, 2, 0]  [4, 0, 2, 3, 2]  [5, 1, 2, 2, 1]   \n",
            "1     [3, 0, 0, 1, 3]  [6, 1, 2, 3, 3]  [2, 2, 4, 5, 7]  [1, 2, 2, 2, 7]   \n",
            "2     [1, 4, 6, 1, 6]  [4, 0, 6, 5, 7]  [5, 0, 3, 2, 4]  [6, 1, 4, 6, 2]   \n",
            "3     [1, 1, 4, 2, 3]  [2, 1, 5, 4, 4]  [1, 2, 5, 2, 4]  [0, 1, 2, 0, 2]   \n",
            "4     [6, 2, 3, 5, 4]  [4, 2, 6, 7, 5]  [6, 1, 5, 7, 3]  [7, 1, 5, 6, 2]   \n",
            "...               ...              ...              ...              ...   \n",
            "9139  [5, 1, 3, 5, 4]  [7, 1, 2, 6, 4]  [4, 3, 5, 7, 4]  [3, 4, 6, 6, 4]   \n",
            "9140  [1, 2, 3, 7, 3]  [1, 1, 5, 7, 6]  [0, 1, 6, 6, 7]  [1, 1, 1, 7, 6]   \n",
            "9141  [6, 2, 3, 2, 2]  [5, 2, 2, 4, 2]  [4, 3, 4, 7, 2]  [4, 3, 6, 5, 3]   \n",
            "9142  [4, 4, 2, 2, 2]  [1, 2, 1, 4, 3]  [3, 3, 2, 5, 4]  [1, 2, 3, 2, 2]   \n",
            "9143  [5, 0, 1, 2, 1]  [5, 2, 1, 4, 2]  [2, 4, 6, 5, 5]  [5, 2, 5, 4, 6]   \n",
            "\n",
            "     mergedFeature_12 mergedFeature_13 mergedFeature_14 mergedFeature_15  \\\n",
            "0     [6, 1, 3, 2, 2]  [1, 3, 3, 6, 6]  [1, 3, 5, 5, 5]  [1, 2, 2, 3, 3]   \n",
            "1     [3, 0, 2, 0, 5]  [3, 3, 2, 0, 4]  [1, 5, 5, 3, 4]  [1, 4, 3, 3, 5]   \n",
            "2     [3, 2, 7, 1, 6]  [6, 0, 4, 6, 5]  [6, 1, 6, 4, 5]  [3, 4, 7, 0, 6]   \n",
            "3     [0, 0, 0, 0, 1]  [1, 0, 1, 5, 3]  [0, 0, 1, 0, 1]  [0, 0, 1, 0, 1]   \n",
            "4     [6, 1, 4, 4, 6]  [4, 2, 5, 4, 7]  [5, 3, 1, 6, 4]  [6, 2, 6, 3, 3]   \n",
            "...               ...              ...              ...              ...   \n",
            "9139  [4, 2, 6, 2, 5]  [7, 0, 2, 5, 4]  [3, 3, 5, 4, 6]  [2, 4, 4, 6, 5]   \n",
            "9140  [2, 1, 6, 6, 4]  [0, 0, 0, 4, 1]  [0, 1, 4, 7, 6]  [1, 1, 7, 3, 7]   \n",
            "9141  [4, 2, 3, 4, 3]  [3, 3, 6, 2, 5]  [3, 2, 3, 6, 3]  [1, 3, 6, 1, 2]   \n",
            "9142  [2, 0, 1, 2, 2]  [4, 0, 1, 2, 2]  [3, 1, 1, 1, 2]  [2, 0, 2, 1, 1]   \n",
            "9143  [3, 1, 4, 2, 4]  [5, 1, 6, 2, 1]  [0, 5, 2, 1, 1]  [0, 4, 1, 5, 1]   \n",
            "\n",
            "     mergedFeature_16  \n",
            "0     [1, 1, 1, 1, 2]  \n",
            "1     [2, 2, 1, 0, 4]  \n",
            "2     [3, 2, 7, 3, 6]  \n",
            "3     [0, 0, 1, 0, 1]  \n",
            "4     [6, 1, 2, 5, 6]  \n",
            "...               ...  \n",
            "9139  [5, 0, 6, 5, 6]  \n",
            "9140  [1, 0, 4, 1, 3]  \n",
            "9141  [2, 3, 4, 4, 4]  \n",
            "9142  [0, 0, 0, 0, 0]  \n",
            "9143  [2, 3, 3, 5, 1]  \n",
            "\n",
            "[9144 rows x 17 columns]\n"
          ]
        }
      ]
    },
    {
      "cell_type": "code",
      "source": [
        "finalFeatures.drop('imageID',axis=1,inplace=True)\n",
        "\n",
        "for column in finalFeatures:\n",
        "    finalFeatures[column] = finalFeatures[column].apply(find_max)\n",
        "\n",
        "print(finalFeatures)\n"
      ],
      "metadata": {
        "colab": {
          "base_uri": "https://localhost:8080/"
        },
        "id": "XdhyDNcPZy_y",
        "outputId": "412b251f-c3c9-44a3-f2cd-d8ee44f73580"
      },
      "execution_count": null,
      "outputs": [
        {
          "output_type": "stream",
          "name": "stdout",
          "text": [
            "      mergedFeature_1  mergedFeature_2  mergedFeature_3  mergedFeature_4  \\\n",
            "0                   2                4                3                3   \n",
            "1                   3                4                5                3   \n",
            "2                   6                7                7                6   \n",
            "3                   0                1                2                1   \n",
            "4                   6                6                7                6   \n",
            "...               ...              ...              ...              ...   \n",
            "9139                5                5                5                5   \n",
            "9140                5                7                7                2   \n",
            "9141                3                5                4                4   \n",
            "9142                0                1                5                4   \n",
            "9143                5                5                4                5   \n",
            "\n",
            "      mergedFeature_5  mergedFeature_6  mergedFeature_7  mergedFeature_8  \\\n",
            "0                   5                3                6                7   \n",
            "1                   5                7                7                3   \n",
            "2                   5                6                5                6   \n",
            "3                   2                0                3                4   \n",
            "4                   4                6                7                6   \n",
            "...               ...              ...              ...              ...   \n",
            "9139                6                6                6                5   \n",
            "9140                7                7                7                7   \n",
            "9141                4                5                7                6   \n",
            "9142                2                5                5                4   \n",
            "9143                4                4                5                5   \n",
            "\n",
            "      mergedFeature_9  mergedFeature_10  mergedFeature_11  mergedFeature_12  \\\n",
            "0                   5                 4                 5                 6   \n",
            "1                   6                 7                 7                 5   \n",
            "2                   7                 5                 6                 7   \n",
            "3                   5                 5                 2                 1   \n",
            "4                   7                 7                 7                 6   \n",
            "...               ...               ...               ...               ...   \n",
            "9139                7                 7                 6                 6   \n",
            "9140                7                 7                 7                 6   \n",
            "9141                5                 7                 6                 4   \n",
            "9142                4                 5                 3                 2   \n",
            "9143                5                 6                 6                 4   \n",
            "\n",
            "      mergedFeature_13  mergedFeature_14  mergedFeature_15  mergedFeature_16  \n",
            "0                    6                 5                 3                 2  \n",
            "1                    4                 5                 5                 4  \n",
            "2                    6                 6                 7                 7  \n",
            "3                    5                 1                 1                 1  \n",
            "4                    7                 6                 6                 6  \n",
            "...                ...               ...               ...               ...  \n",
            "9139                 7                 6                 6                 6  \n",
            "9140                 4                 7                 7                 4  \n",
            "9141                 6                 6                 6                 4  \n",
            "9142                 4                 3                 2                 0  \n",
            "9143                 6                 5                 5                 5  \n",
            "\n",
            "[9144 rows x 16 columns]\n"
          ]
        }
      ]
    },
    {
      "cell_type": "code",
      "source": [
        "X=finalFeatures\n",
        "Y=image_and_features_together_df['imageclass']\n",
        "\n",
        "print(\"features are:\\n\")\n",
        "print(X)\n",
        "# print(\"classes are: \\n\")\n",
        "# print(Y)"
      ],
      "metadata": {
        "colab": {
          "base_uri": "https://localhost:8080/"
        },
        "id": "Zy3VS3RmaLm6",
        "outputId": "4674a80e-a02a-4e14-c7d1-d4b66a8a9d94"
      },
      "execution_count": null,
      "outputs": [
        {
          "output_type": "stream",
          "name": "stdout",
          "text": [
            "features are:\n",
            "\n",
            "      mergedFeature_1  mergedFeature_2  mergedFeature_3  mergedFeature_4  \\\n",
            "0                   2                4                3                3   \n",
            "1                   3                4                5                3   \n",
            "2                   6                7                7                6   \n",
            "3                   0                1                2                1   \n",
            "4                   6                6                7                6   \n",
            "...               ...              ...              ...              ...   \n",
            "9139                5                5                5                5   \n",
            "9140                5                7                7                2   \n",
            "9141                3                5                4                4   \n",
            "9142                0                1                5                4   \n",
            "9143                5                5                4                5   \n",
            "\n",
            "      mergedFeature_5  mergedFeature_6  mergedFeature_7  mergedFeature_8  \\\n",
            "0                   5                3                6                7   \n",
            "1                   5                7                7                3   \n",
            "2                   5                6                5                6   \n",
            "3                   2                0                3                4   \n",
            "4                   4                6                7                6   \n",
            "...               ...              ...              ...              ...   \n",
            "9139                6                6                6                5   \n",
            "9140                7                7                7                7   \n",
            "9141                4                5                7                6   \n",
            "9142                2                5                5                4   \n",
            "9143                4                4                5                5   \n",
            "\n",
            "      mergedFeature_9  mergedFeature_10  mergedFeature_11  mergedFeature_12  \\\n",
            "0                   5                 4                 5                 6   \n",
            "1                   6                 7                 7                 5   \n",
            "2                   7                 5                 6                 7   \n",
            "3                   5                 5                 2                 1   \n",
            "4                   7                 7                 7                 6   \n",
            "...               ...               ...               ...               ...   \n",
            "9139                7                 7                 6                 6   \n",
            "9140                7                 7                 7                 6   \n",
            "9141                5                 7                 6                 4   \n",
            "9142                4                 5                 3                 2   \n",
            "9143                5                 6                 6                 4   \n",
            "\n",
            "      mergedFeature_13  mergedFeature_14  mergedFeature_15  mergedFeature_16  \n",
            "0                    6                 5                 3                 2  \n",
            "1                    4                 5                 5                 4  \n",
            "2                    6                 6                 7                 7  \n",
            "3                    5                 1                 1                 1  \n",
            "4                    7                 6                 6                 6  \n",
            "...                ...               ...               ...               ...  \n",
            "9139                 7                 6                 6                 6  \n",
            "9140                 4                 7                 7                 4  \n",
            "9141                 6                 6                 6                 4  \n",
            "9142                 4                 3                 2                 0  \n",
            "9143                 6                 5                 5                 5  \n",
            "\n",
            "[9144 rows x 16 columns]\n"
          ]
        }
      ]
    },
    {
      "cell_type": "markdown",
      "source": [
        "## SVM Classifier"
      ],
      "metadata": {
        "id": "RerzZRnxd7n2"
      }
    },
    {
      "cell_type": "code",
      "source": [
        "model = SVC(kernel=\"poly\")\n",
        "X_train, X_test, Y_train, Y_test = train_test_split(X, Y, stratify=Y)\n",
        "print(X_train.shape, X_test.shape, Y_train.shape, Y_test.shape)\n",
        "print(len(Y_train.unique()))\n",
        "model.fit(X_train, Y_train)\n",
        "yhat = model.predict(X_test)\n",
        "acc = accuracy_score(Y_test, yhat)\n",
        "print('Accuracy: %.3f' % acc)\n",
        "print('Training set score: {:.4f}'.format(model.score(X_train, Y_train)))\n",
        "print('Test set score: {:.4f}'.format(model.score(X_test, Y_test)))"
      ],
      "metadata": {
        "colab": {
          "base_uri": "https://localhost:8080/"
        },
        "id": "VV2DJqUMd6iA",
        "outputId": "c5c30fff-429b-487d-808d-7f483574ae1b"
      },
      "execution_count": null,
      "outputs": [
        {
          "output_type": "stream",
          "name": "stdout",
          "text": [
            "(6858, 16) (2286, 16) (6858,) (2286,)\n",
            "101\n",
            "Accuracy: 0.322\n",
            "Training set score: 0.6085\n",
            "Test set score: 0.3224\n"
          ]
        }
      ]
    },
    {
      "cell_type": "code",
      "source": [
        "# Training with entire dataset and all 16 features\n",
        "model = SVC(kernel=\"poly\")\n",
        "model.fit(X,Y)\n",
        "print(\"accuracy\",model.score(X,Y))"
      ],
      "metadata": {
        "colab": {
          "base_uri": "https://localhost:8080/"
        },
        "id": "_G29kjQJe_8p",
        "outputId": "7ca033ed-be5a-4bfe-e3fb-44dae11c9721"
      },
      "execution_count": null,
      "outputs": [
        {
          "output_type": "stream",
          "name": "stdout",
          "text": [
            "accuracy 0.5787401574803149\n"
          ]
        }
      ]
    },
    {
      "cell_type": "markdown",
      "source": [
        "## Naive Bayes Classifier"
      ],
      "metadata": {
        "id": "cUyOcLxuaiYI"
      }
    },
    {
      "cell_type": "code",
      "source": [
        "model = MultinomialNB()\n",
        "X_train, X_test, Y_train, Y_test = train_test_split(X, Y, stratify=Y)\n",
        "print(X_train.shape, X_test.shape, Y_train.shape, Y_test.shape)\n",
        "print(len(Y_train.unique()))\n",
        "model.fit(X_train, Y_train)\n",
        "yhat = model.predict(X_test)\n",
        "acc = accuracy_score(Y_test, yhat)\n",
        "print('Accuracy: %.3f' % acc)\n",
        "print('Training set score: {:.4f}'.format(model.score(X_train, Y_train)))\n",
        "print('Test set score: {:.4f}'.format(model.score(X_test, Y_test)))"
      ],
      "metadata": {
        "colab": {
          "base_uri": "https://localhost:8080/"
        },
        "id": "djBlfwOAalt7",
        "outputId": "d075f79a-5a96-418b-c715-f3e30144b9fa"
      },
      "execution_count": null,
      "outputs": [
        {
          "output_type": "stream",
          "name": "stdout",
          "text": [
            "(6858, 16) (2286, 16) (6858,) (2286,)\n",
            "101\n",
            "Accuracy: 0.232\n",
            "Training set score: 0.2451\n",
            "Test set score: 0.2318\n"
          ]
        }
      ]
    },
    {
      "cell_type": "code",
      "source": [
        "# Training with entire dataset along with all 16 features\n",
        "model = MultinomialNB()\n",
        "model.fit(X,Y)\n",
        "print(\"Accuracy\",model.score(X,Y))"
      ],
      "metadata": {
        "colab": {
          "base_uri": "https://localhost:8080/"
        },
        "id": "rV7fgchXeY8P",
        "outputId": "26e68c32-97e0-4963-87a5-f08fff976ab6"
      },
      "execution_count": null,
      "outputs": [
        {
          "output_type": "stream",
          "name": "stdout",
          "text": [
            "Accuracy 0.2443132108486439\n"
          ]
        }
      ]
    }
  ]
}